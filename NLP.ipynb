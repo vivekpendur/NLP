{
  "nbformat": 4,
  "nbformat_minor": 0,
  "metadata": {
    "kernelspec": {
      "display_name": "Python 3",
      "language": "python",
      "name": "python3"
    },
    "language_info": {
      "codemirror_mode": {
        "name": "ipython",
        "version": 3
      },
      "file_extension": ".py",
      "mimetype": "text/x-python",
      "name": "python",
      "nbconvert_exporter": "python",
      "pygments_lexer": "ipython3",
      "version": "3.7.9"
    },
    "colab": {
      "name": "Untitled.ipynb",
      "provenance": []
    }
  },
  "cells": [
    {
      "cell_type": "code",
      "metadata": {
        "id": "BTW7uED3919N"
      },
      "source": [
        "import numpy as np\n",
        "import pandas as pd\n",
        "import matplotlib.pyplot as plt"
      ],
      "execution_count": 1,
      "outputs": []
    },
    {
      "cell_type": "code",
      "metadata": {
        "id": "BQj9wW0o919U"
      },
      "source": [
        "import tensorflow as tf"
      ],
      "execution_count": 2,
      "outputs": []
    },
    {
      "cell_type": "markdown",
      "metadata": {
        "id": "H3G5YiTA919Z"
      },
      "source": [
        "read data"
      ]
    },
    {
      "cell_type": "code",
      "metadata": {
        "id": "fY7WziHA919c"
      },
      "source": [
        "path_to_file='data.txt'"
      ],
      "execution_count": 3,
      "outputs": []
    },
    {
      "cell_type": "code",
      "metadata": {
        "id": "mfU8hNST919h"
      },
      "source": [
        "text=open(path_to_file,'r').read()"
      ],
      "execution_count": 4,
      "outputs": []
    },
    {
      "cell_type": "code",
      "metadata": {
        "id": "qUdO3Z-i919n"
      },
      "source": [
        "#print(text[140500:141500])"
      ],
      "execution_count": 5,
      "outputs": []
    },
    {
      "cell_type": "markdown",
      "metadata": {
        "id": "S9iG8m3_919r"
      },
      "source": [
        "unique chars in text"
      ]
    },
    {
      "cell_type": "code",
      "metadata": {
        "id": "Edc8Q_a3919t"
      },
      "source": [
        "vocab=sorted(set(text))"
      ],
      "execution_count": 6,
      "outputs": []
    },
    {
      "cell_type": "code",
      "metadata": {
        "id": "RD_Yque_919x",
        "outputId": "9a1f5ab5-c0b6-4fb6-95c2-aa73d569cb8f",
        "colab": {
          "base_uri": "https://localhost:8080/"
        }
      },
      "source": [
        "len(vocab)"
      ],
      "execution_count": 7,
      "outputs": [
        {
          "output_type": "execute_result",
          "data": {
            "text/plain": [
              "84"
            ]
          },
          "metadata": {
            "tags": []
          },
          "execution_count": 7
        }
      ]
    },
    {
      "cell_type": "markdown",
      "metadata": {
        "id": "M6kj-UEi9193"
      },
      "source": [
        "## Text processing"
      ]
    },
    {
      "cell_type": "markdown",
      "metadata": {
        "id": "sy4atqx79194"
      },
      "source": [
        "Assign index to each unique character - for creation of dictionary"
      ]
    },
    {
      "cell_type": "code",
      "metadata": {
        "id": "TA3iXHlI9195"
      },
      "source": [
        "char_to_ind={char:ind for ind,char in enumerate(vocab)}"
      ],
      "execution_count": 8,
      "outputs": []
    },
    {
      "cell_type": "code",
      "metadata": {
        "scrolled": true,
        "id": "Nu74WZtp9199",
        "outputId": "ec48d16b-8e99-4b5b-dee6-944d5ddbc454",
        "colab": {
          "base_uri": "https://localhost:8080/"
        }
      },
      "source": [
        "char_to_ind"
      ],
      "execution_count": 9,
      "outputs": [
        {
          "output_type": "execute_result",
          "data": {
            "text/plain": [
              "{'\\n': 0,\n",
              " ' ': 1,\n",
              " '!': 2,\n",
              " '\"': 3,\n",
              " '&': 4,\n",
              " \"'\": 5,\n",
              " '(': 6,\n",
              " ')': 7,\n",
              " ',': 8,\n",
              " '-': 9,\n",
              " '.': 10,\n",
              " '0': 11,\n",
              " '1': 12,\n",
              " '2': 13,\n",
              " '3': 14,\n",
              " '4': 15,\n",
              " '5': 16,\n",
              " '6': 17,\n",
              " '7': 18,\n",
              " '8': 19,\n",
              " '9': 20,\n",
              " ':': 21,\n",
              " ';': 22,\n",
              " '<': 23,\n",
              " '>': 24,\n",
              " '?': 25,\n",
              " 'A': 26,\n",
              " 'B': 27,\n",
              " 'C': 28,\n",
              " 'D': 29,\n",
              " 'E': 30,\n",
              " 'F': 31,\n",
              " 'G': 32,\n",
              " 'H': 33,\n",
              " 'I': 34,\n",
              " 'J': 35,\n",
              " 'K': 36,\n",
              " 'L': 37,\n",
              " 'M': 38,\n",
              " 'N': 39,\n",
              " 'O': 40,\n",
              " 'P': 41,\n",
              " 'Q': 42,\n",
              " 'R': 43,\n",
              " 'S': 44,\n",
              " 'T': 45,\n",
              " 'U': 46,\n",
              " 'V': 47,\n",
              " 'W': 48,\n",
              " 'X': 49,\n",
              " 'Y': 50,\n",
              " 'Z': 51,\n",
              " '[': 52,\n",
              " ']': 53,\n",
              " '_': 54,\n",
              " '`': 55,\n",
              " 'a': 56,\n",
              " 'b': 57,\n",
              " 'c': 58,\n",
              " 'd': 59,\n",
              " 'e': 60,\n",
              " 'f': 61,\n",
              " 'g': 62,\n",
              " 'h': 63,\n",
              " 'i': 64,\n",
              " 'j': 65,\n",
              " 'k': 66,\n",
              " 'l': 67,\n",
              " 'm': 68,\n",
              " 'n': 69,\n",
              " 'o': 70,\n",
              " 'p': 71,\n",
              " 'q': 72,\n",
              " 'r': 73,\n",
              " 's': 74,\n",
              " 't': 75,\n",
              " 'u': 76,\n",
              " 'v': 77,\n",
              " 'w': 78,\n",
              " 'x': 79,\n",
              " 'y': 80,\n",
              " 'z': 81,\n",
              " '|': 82,\n",
              " '}': 83}"
            ]
          },
          "metadata": {
            "tags": []
          },
          "execution_count": 9
        }
      ]
    },
    {
      "cell_type": "markdown",
      "metadata": {
        "id": "fbjGvQUr91-B"
      },
      "source": [
        "Encode all unique text into integer."
      ]
    },
    {
      "cell_type": "code",
      "metadata": {
        "id": "gMV6UP0M91-C"
      },
      "source": [
        "ind_to_char=np.array(vocab)"
      ],
      "execution_count": 10,
      "outputs": []
    },
    {
      "cell_type": "code",
      "metadata": {
        "id": "caiROHG691-G"
      },
      "source": [
        "encoded_text=np.array([char_to_ind[c] for c in text])\n",
        "    "
      ],
      "execution_count": 11,
      "outputs": []
    },
    {
      "cell_type": "markdown",
      "metadata": {
        "id": "xFEmSgy-91-P"
      },
      "source": [
        "## Creating Batches"
      ]
    },
    {
      "cell_type": "code",
      "metadata": {
        "id": "L4skwPKi91-Q"
      },
      "source": [
        "seq_len=120"
      ],
      "execution_count": 12,
      "outputs": []
    },
    {
      "cell_type": "code",
      "metadata": {
        "id": "zLEDrVn491-U"
      },
      "source": [
        "total_num_seq=len(text)//(seq_len+1)"
      ],
      "execution_count": 13,
      "outputs": []
    },
    {
      "cell_type": "code",
      "metadata": {
        "id": "6hPyPfIH91-Y",
        "outputId": "9070fa42-5b1a-4885-d901-06d7a7897b09",
        "colab": {
          "base_uri": "https://localhost:8080/"
        }
      },
      "source": [
        "total_num_seq"
      ],
      "execution_count": 14,
      "outputs": [
        {
          "output_type": "execute_result",
          "data": {
            "text/plain": [
              "45005"
            ]
          },
          "metadata": {
            "tags": []
          },
          "execution_count": 14
        }
      ]
    },
    {
      "cell_type": "markdown",
      "metadata": {
        "id": "HLbXB4AU91-e"
      },
      "source": [
        "create the training sequences"
      ]
    },
    {
      "cell_type": "code",
      "metadata": {
        "id": "IfWXf3WG91-f"
      },
      "source": [
        "char_dataset=tf.data.Dataset.from_tensor_slices(encoded_text)"
      ],
      "execution_count": 15,
      "outputs": []
    },
    {
      "cell_type": "code",
      "metadata": {
        "id": "JR8ueXCK91-j"
      },
      "source": [
        "sequences=char_dataset.batch(seq_len+1,drop_remainder=True)"
      ],
      "execution_count": 16,
      "outputs": []
    },
    {
      "cell_type": "code",
      "metadata": {
        "id": "9FinwNTy91-o"
      },
      "source": [
        "def create_seq_targets(seq):\n",
        "    input_txt=seq[:-1]\n",
        "    target_txt=seq[1:]\n",
        "    return input_txt,target_txt"
      ],
      "execution_count": 17,
      "outputs": []
    },
    {
      "cell_type": "markdown",
      "metadata": {
        "id": "7elHE56591-u"
      },
      "source": [
        "map to all sequences"
      ]
    },
    {
      "cell_type": "code",
      "metadata": {
        "id": "-ZyFx4v-91-v"
      },
      "source": [
        "dataset=sequences.map(create_seq_targets)"
      ],
      "execution_count": 18,
      "outputs": []
    },
    {
      "cell_type": "code",
      "metadata": {
        "id": "UyGYSaXg91-z",
        "outputId": "fd99afcb-a483-492d-939b-40ba98096852",
        "colab": {
          "base_uri": "https://localhost:8080/"
        }
      },
      "source": [
        "dataset"
      ],
      "execution_count": 19,
      "outputs": [
        {
          "output_type": "execute_result",
          "data": {
            "text/plain": [
              "<MapDataset shapes: ((120,), (120,)), types: (tf.int64, tf.int64)>"
            ]
          },
          "metadata": {
            "tags": []
          },
          "execution_count": 19
        }
      ]
    },
    {
      "cell_type": "code",
      "metadata": {
        "id": "afvaH_iA91-3",
        "outputId": "2fcb091a-a6bf-4a90-9ef2-8e9549a5f459",
        "colab": {
          "base_uri": "https://localhost:8080/"
        }
      },
      "source": [
        "for input_txt,target_txt in dataset.take(1):\n",
        "    print(input_txt.numpy())\n",
        "    print(''.join(ind_to_char[input_txt.numpy()]))\n",
        "    print('\\n')\n",
        "    print(target_txt.numpy())\n",
        "    print(''.join(ind_to_char[target_txt.numpy()]))"
      ],
      "execution_count": 20,
      "outputs": [
        {
          "output_type": "stream",
          "text": [
            "[ 0  1  1  1  1  1  1  1  1  1  1  1  1  1  1  1  1  1  1  1  1  1 12  0\n",
            "  1  1 31 73 70 68  1 61 56 64 73 60 74 75  1 58 73 60 56 75 76 73 60 74\n",
            "  1 78 60  1 59 60 74 64 73 60  1 64 69 58 73 60 56 74 60  8  0  1  1 45\n",
            " 63 56 75  1 75 63 60 73 60 57 80  1 57 60 56 76 75 80  5 74  1 73 70 74\n",
            " 60  1 68 64 62 63 75  1 69 60 77 60 73  1 59 64 60  8  0  1  1 27 76 75]\n",
            "\n",
            "                     1\n",
            "  From fairest creatures we desire increase,\n",
            "  That thereby beauty's rose might never die,\n",
            "  But\n",
            "\n",
            "\n",
            "[ 1  1  1  1  1  1  1  1  1  1  1  1  1  1  1  1  1  1  1  1  1 12  0  1\n",
            "  1 31 73 70 68  1 61 56 64 73 60 74 75  1 58 73 60 56 75 76 73 60 74  1\n",
            " 78 60  1 59 60 74 64 73 60  1 64 69 58 73 60 56 74 60  8  0  1  1 45 63\n",
            " 56 75  1 75 63 60 73 60 57 80  1 57 60 56 76 75 80  5 74  1 73 70 74 60\n",
            "  1 68 64 62 63 75  1 69 60 77 60 73  1 59 64 60  8  0  1  1 27 76 75  1]\n",
            "                     1\n",
            "  From fairest creatures we desire increase,\n",
            "  That thereby beauty's rose might never die,\n",
            "  But \n"
          ],
          "name": "stdout"
        }
      ]
    },
    {
      "cell_type": "code",
      "metadata": {
        "id": "XRn_mAzg91-7"
      },
      "source": [
        "batch_size=128"
      ],
      "execution_count": 21,
      "outputs": []
    },
    {
      "cell_type": "code",
      "metadata": {
        "id": "YVyyO1pb91_A"
      },
      "source": [
        "buffer_size=10000"
      ],
      "execution_count": 22,
      "outputs": []
    },
    {
      "cell_type": "code",
      "metadata": {
        "id": "FyALu1Ok91_E"
      },
      "source": [
        "dataset=dataset.shuffle(buffer_size).batch(batch_size,drop_remainder=True)"
      ],
      "execution_count": 23,
      "outputs": []
    },
    {
      "cell_type": "code",
      "metadata": {
        "id": "XyE9WpbT91_J",
        "outputId": "4e5b02ca-c497-427a-a922-26827a67848c",
        "colab": {
          "base_uri": "https://localhost:8080/"
        }
      },
      "source": [
        "dataset"
      ],
      "execution_count": 24,
      "outputs": [
        {
          "output_type": "execute_result",
          "data": {
            "text/plain": [
              "<BatchDataset shapes: ((128, 120), (128, 120)), types: (tf.int64, tf.int64)>"
            ]
          },
          "metadata": {
            "tags": []
          },
          "execution_count": 24
        }
      ]
    },
    {
      "cell_type": "markdown",
      "metadata": {
        "id": "BXiImCxU91_R"
      },
      "source": [
        "## Creating the model"
      ]
    },
    {
      "cell_type": "code",
      "metadata": {
        "id": "GnpztPp691_S"
      },
      "source": [
        "vocab_size=len(vocab)"
      ],
      "execution_count": 25,
      "outputs": []
    },
    {
      "cell_type": "code",
      "metadata": {
        "id": "xwzFREik91_X",
        "outputId": "c991318c-f37a-493a-c965-4b8ba4186395",
        "colab": {
          "base_uri": "https://localhost:8080/"
        }
      },
      "source": [
        "vocab_size"
      ],
      "execution_count": 26,
      "outputs": [
        {
          "output_type": "execute_result",
          "data": {
            "text/plain": [
              "84"
            ]
          },
          "metadata": {
            "tags": []
          },
          "execution_count": 26
        }
      ]
    },
    {
      "cell_type": "code",
      "metadata": {
        "id": "swO3woik91_b"
      },
      "source": [
        "embed_dim=64"
      ],
      "execution_count": 27,
      "outputs": []
    },
    {
      "cell_type": "code",
      "metadata": {
        "id": "6ryu6HMh91_f"
      },
      "source": [
        "rnn_neurons=1026"
      ],
      "execution_count": 28,
      "outputs": []
    },
    {
      "cell_type": "markdown",
      "metadata": {
        "id": "mrYYze1p91_j"
      },
      "source": [
        "Loss function"
      ]
    },
    {
      "cell_type": "code",
      "metadata": {
        "id": "6A-lpoVh91_k"
      },
      "source": [
        "from tensorflow.keras.losses import sparse_categorical_crossentropy"
      ],
      "execution_count": 29,
      "outputs": []
    },
    {
      "cell_type": "code",
      "metadata": {
        "id": "IXdTMNgv91_q"
      },
      "source": [
        "def sparse_cat_loss(y_true,y_pred):\n",
        "    return sparse_categorical_crossentropy(y_true,y_pred,from_logits=True)"
      ],
      "execution_count": 30,
      "outputs": []
    },
    {
      "cell_type": "code",
      "metadata": {
        "id": "HIzU3zqZ91_y"
      },
      "source": [
        "from tensorflow.keras.models import Sequential\n",
        "from tensorflow.keras.layers import Embedding,GRU,Dense"
      ],
      "execution_count": 31,
      "outputs": []
    },
    {
      "cell_type": "code",
      "metadata": {
        "id": "qvvy6x0391_2"
      },
      "source": [
        "def create_model(vocab_size,embed_dim,rnn_neurons,batch_size):\n",
        "    model=Sequential()\n",
        "    model.add(Embedding(vocab_size,embed_dim,batch_input_shape=[batch_size,None]))\n",
        "    model.add(GRU(rnn_neurons,return_sequences=True,stateful=True,recurrent_initializer='glorot_uniform'))\n",
        "    model.add(Dense(vocab_size))\n",
        "    \n",
        "    model.compile('adam',loss=sparse_cat_loss)\n",
        "    return model"
      ],
      "execution_count": 32,
      "outputs": []
    },
    {
      "cell_type": "code",
      "metadata": {
        "id": "PAAzSmMm91_6"
      },
      "source": [
        "model=create_model(vocab_size=vocab_size,embed_dim=embed_dim,rnn_neurons=rnn_neurons,batch_size=batch_size)"
      ],
      "execution_count": 33,
      "outputs": []
    },
    {
      "cell_type": "code",
      "metadata": {
        "id": "sDXG3y-U91_-",
        "outputId": "fc116479-2aea-4582-d0fc-0bfdec2629d3",
        "colab": {
          "base_uri": "https://localhost:8080/"
        }
      },
      "source": [
        "model.summary()"
      ],
      "execution_count": 34,
      "outputs": [
        {
          "output_type": "stream",
          "text": [
            "Model: \"sequential\"\n",
            "_________________________________________________________________\n",
            "Layer (type)                 Output Shape              Param #   \n",
            "=================================================================\n",
            "embedding (Embedding)        (128, None, 64)           5376      \n",
            "_________________________________________________________________\n",
            "gru (GRU)                    (128, None, 1026)         3361176   \n",
            "_________________________________________________________________\n",
            "dense (Dense)                (128, None, 84)           86268     \n",
            "=================================================================\n",
            "Total params: 3,452,820\n",
            "Trainable params: 3,452,820\n",
            "Non-trainable params: 0\n",
            "_________________________________________________________________\n"
          ],
          "name": "stdout"
        }
      ]
    },
    {
      "cell_type": "markdown",
      "metadata": {
        "id": "8Ku4_YZb92AE"
      },
      "source": [
        "## Training the model"
      ]
    },
    {
      "cell_type": "code",
      "metadata": {
        "id": "eTEM1yQd92AF"
      },
      "source": [
        "for input_example_batch, target_example_batch in dataset.take(1):\n",
        " \n",
        " example_batch_predictions=model(input_example_batch)"
      ],
      "execution_count": 36,
      "outputs": []
    },
    {
      "cell_type": "code",
      "metadata": {
        "id": "0PsoNl-9DDG0"
      },
      "source": [
        "sampled_indices=tf.random.categorical(example_batch_predictions[0],num_samples=1)"
      ],
      "execution_count": 39,
      "outputs": []
    },
    {
      "cell_type": "code",
      "metadata": {
        "id": "FnQQxgmSDcPX",
        "outputId": "bdc6edec-777f-4177-9f56-1f475328aaa1",
        "colab": {
          "base_uri": "https://localhost:8080/"
        }
      },
      "source": [
        "sampled_indices=tf.squeeze(sampled_indices,axis=1).numpy()\n",
        "sampled_indices"
      ],
      "execution_count": 41,
      "outputs": [
        {
          "output_type": "execute_result",
          "data": {
            "text/plain": [
              "array([49,  8, 25, 42,  2, 61, 51, 44, 58, 33, 73, 18, 17, 17, 12, 17, 44,\n",
              "       46, 64, 83,  2, 40, 79, 46, 71, 48,  9, 10, 47, 76, 23, 70,  6, 26,\n",
              "       35, 25, 25, 13, 67, 28, 63, 20, 43, 67, 14, 69,  9, 17, 37,  5, 53,\n",
              "       28, 15,  2, 43, 58, 31, 60, 23,  9, 20, 63, 65, 65, 61, 44, 73, 24,\n",
              "       63, 46, 45,  5, 19,  2, 31, 79, 13, 82, 64, 10, 38, 76, 66, 36, 29,\n",
              "       65,  7, 38, 34, 22, 59, 44, 34, 72, 34, 56, 49, 36, 62, 52, 77, 78,\n",
              "       40, 58, 19, 35, 23, 28, 47,  4, 25, 28, 81, 26, 55, 64, 48, 44, 46,\n",
              "       46])"
            ]
          },
          "metadata": {
            "tags": []
          },
          "execution_count": 41
        }
      ]
    },
    {
      "cell_type": "code",
      "metadata": {
        "id": "Nva_jl67D87e",
        "outputId": "7213e1fe-75e7-458b-b093-d402f95cdb75",
        "colab": {
          "base_uri": "https://localhost:8080/"
        }
      },
      "source": [
        "ind_to_char[sampled_indices]"
      ],
      "execution_count": 42,
      "outputs": [
        {
          "output_type": "execute_result",
          "data": {
            "text/plain": [
              "array(['X', ',', '?', 'Q', '!', 'f', 'Z', 'S', 'c', 'H', 'r', '7', '6',\n",
              "       '6', '1', '6', 'S', 'U', 'i', '}', '!', 'O', 'x', 'U', 'p', 'W',\n",
              "       '-', '.', 'V', 'u', '<', 'o', '(', 'A', 'J', '?', '?', '2', 'l',\n",
              "       'C', 'h', '9', 'R', 'l', '3', 'n', '-', '6', 'L', \"'\", ']', 'C',\n",
              "       '4', '!', 'R', 'c', 'F', 'e', '<', '-', '9', 'h', 'j', 'j', 'f',\n",
              "       'S', 'r', '>', 'h', 'U', 'T', \"'\", '8', '!', 'F', 'x', '2', '|',\n",
              "       'i', '.', 'M', 'u', 'k', 'K', 'D', 'j', ')', 'M', 'I', ';', 'd',\n",
              "       'S', 'I', 'q', 'I', 'a', 'X', 'K', 'g', '[', 'v', 'w', 'O', 'c',\n",
              "       '8', 'J', '<', 'C', 'V', '&', '?', 'C', 'z', 'A', '`', 'i', 'W',\n",
              "       'S', 'U', 'U'], dtype='<U1')"
            ]
          },
          "metadata": {
            "tags": []
          },
          "execution_count": 42
        }
      ]
    },
    {
      "cell_type": "code",
      "metadata": {
        "id": "GLCvGBp4EYxF"
      },
      "source": [
        "#model.fit(dataset,epochs=30)"
      ],
      "execution_count": 43,
      "outputs": []
    },
    {
      "cell_type": "code",
      "metadata": {
        "id": "RBzPTVR5EzWd"
      },
      "source": [
        "from tensorflow.keras.models import load_model"
      ],
      "execution_count": 44,
      "outputs": []
    },
    {
      "cell_type": "code",
      "metadata": {
        "id": "kljK5tl2FFAd"
      },
      "source": [
        ""
      ],
      "execution_count": null,
      "outputs": []
    },
    {
      "cell_type": "markdown",
      "metadata": {
        "id": "11CjQzoMFMNK"
      },
      "source": [
        "Generating text"
      ]
    },
    {
      "cell_type": "code",
      "metadata": {
        "id": "aOY8Zl8LFO3T",
        "outputId": "b5f97b85-192c-40b6-9463-5382833c5a24",
        "colab": {
          "base_uri": "https://localhost:8080/"
        }
      },
      "source": [
        "model=create_model(vocab_size,embed_dim,rnn_neurons,batch_size=1)\n",
        "model.load_weights('data.h5')\n",
        "model.build(tf.TensorShape([1,None]))\n",
        "\n",
        "model.summary()"
      ],
      "execution_count": 45,
      "outputs": [
        {
          "output_type": "stream",
          "text": [
            "Model: \"sequential_1\"\n",
            "_________________________________________________________________\n",
            "Layer (type)                 Output Shape              Param #   \n",
            "=================================================================\n",
            "embedding_1 (Embedding)      (1, None, 64)             5376      \n",
            "_________________________________________________________________\n",
            "gru_1 (GRU)                  (1, None, 1026)           3361176   \n",
            "_________________________________________________________________\n",
            "dense_1 (Dense)              (1, None, 84)             86268     \n",
            "=================================================================\n",
            "Total params: 3,452,820\n",
            "Trainable params: 3,452,820\n",
            "Non-trainable params: 0\n",
            "_________________________________________________________________\n"
          ],
          "name": "stdout"
        }
      ]
    },
    {
      "cell_type": "code",
      "metadata": {
        "id": "yNZhbwQxF6kH"
      },
      "source": [
        "def generate_text(model,start_seed,gen_size=500,temp=1.0):\n",
        "  num_generate=gen_size\n",
        "  input_eval=[char_to_ind[s] for s in start_seed]\n",
        "  input_eval=tf.expand_dims(input_eval,0)\n",
        "  text_generated=[]\n",
        "  temperature=temp\n",
        "  model.reset_states()\n",
        "  for i in range(num_generate):\n",
        "    predictions =model(input_eval)\n",
        "    predictions=tf.squeeze(predictions,0)\n",
        "    predictions=predictions/temperature\n",
        "    predicted_id= tf.random.categorical(predictions,num_samples=1)[-1,0].numpy()\n",
        "    input_eval=tf.expand_dims([predicted_id],0)\n",
        "    text_generated.append(ind_to_char[predicted_id])\n",
        "    return (start_seed+\"\".join(text_generated))"
      ],
      "execution_count": 46,
      "outputs": []
    },
    {
      "cell_type": "code",
      "metadata": {
        "id": "YK10EBmeHwRM",
        "outputId": "ebd81b6f-a448-4c19-8318-f90bcd5165a6",
        "colab": {
          "base_uri": "https://localhost:8080/"
        }
      },
      "source": [
        "print(generate_text(model,\"JULIET\",gen_size=1000))"
      ],
      "execution_count": 48,
      "outputs": [
        {
          "output_type": "stream",
          "text": [
            "JULIETH\n"
          ],
          "name": "stdout"
        }
      ]
    },
    {
      "cell_type": "code",
      "metadata": {
        "id": "Ajq6WZFBH-3l"
      },
      "source": [
        ""
      ],
      "execution_count": null,
      "outputs": []
    }
  ]
}